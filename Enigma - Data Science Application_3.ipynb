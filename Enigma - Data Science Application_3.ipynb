{
 "cells": [
  {
   "cell_type": "markdown",
   "metadata": {},
   "source": [
    "# Enigma Data Science Takehome: Notebook 3"
   ]
  },
  {
   "cell_type": "markdown",
   "metadata": {},
   "source": [
    "### Details:\n",
    "\n",
    "Section 3: Exploration (1/2)\n",
    "\n",
    "Choose a question to answer from your brainstorming section. Please include:\n",
    "1. One page (or less) of descriptive text (potentially with figures)\n",
    "2. Your code"
   ]
  },
  {
   "cell_type": "markdown",
   "metadata": {},
   "source": [
    "## Question to Investigate:\n",
    "\n",
    "### Evaluate Time Series (New / Expiring) of visas to determine if there will be a gap in talent for a role in 2017\n",
    "\n",
    "#### Specifications:\n",
    "- Only consider applications with employers in NYC\n",
    "- Only consider applications since 2010\n",
    "- Only consider applications which have a status of 'CERTIFIED'"
   ]
  },
  {
   "cell_type": "markdown",
   "metadata": {},
   "source": [
    "### Data Sources:\n",
    "2010 - 2016 H-1B data downloaded as csv from Enigma's Abstract platform"
   ]
  },
  {
   "cell_type": "markdown",
   "metadata": {},
   "source": [
    "# Data Prep\n",
    "\n",
    "#### Ingest csv's for all relevant years - considering each file might be formatted slightly differently\n",
    " - Append the data into a master dataset acorss all years"
   ]
  },
  {
   "cell_type": "code",
   "execution_count": 1,
   "metadata": {
    "collapsed": true
   },
   "outputs": [],
   "source": [
    "import pandas as pd\n",
    "import numpy as np"
   ]
  },
  {
   "cell_type": "code",
   "execution_count": 2,
   "metadata": {
    "collapsed": true
   },
   "outputs": [],
   "source": [
    "#columns names\n",
    "names = columns_16 = ['case_number',\n",
    "             'case_status',\n",
    "             'visa_class',\n",
    "             'employment_start_date',\n",
    "             'employment_end_date',\n",
    "             'employer_name',\n",
    "             'employer_city',\n",
    "             'employer_state',\n",
    "             'soc_code',\n",
    "             'soc_name',\n",
    "             'job_title',\n",
    "             'wage']\n",
    "\n",
    "df_06_16 = pd.DataFrame()"
   ]
  },
  {
   "cell_type": "markdown",
   "metadata": {
    "collapsed": true
   },
   "source": [
    "### Ingest 2016"
   ]
  },
  {
   "cell_type": "code",
   "execution_count": 3,
   "metadata": {
    "collapsed": false
   },
   "outputs": [
    {
     "name": "stderr",
     "output_type": "stream",
     "text": [
      "/Users/ben.nichols/code/virtualenvs/citadel/lib/python2.7/site-packages/pandas/io/parsers.py:1154: DtypeWarning: Columns (14,15,40) have mixed types. Specify dtype option on import or set low_memory=False.\n",
      "  data = self._reader.read(nrows)\n"
     ]
    }
   ],
   "source": [
    "#ingest data into master df\n",
    "visa_df = pd.read_csv('/Users/ben.nichols/Downloads/h1b_applications_2016.csv')\n",
    "visa_df.head()\n",
    "\n",
    "columns_16 = ['case_number',\n",
    "             'case_status',\n",
    "             'visa_class',\n",
    "             'employment_start_date',\n",
    "             'employment_end_date',\n",
    "             'employer_name',\n",
    "             'employer_city',\n",
    "             'employer_state',\n",
    "             'soc_code',\n",
    "             'soc_name',\n",
    "             'job_title',\n",
    "             'prevailing_wage']\n",
    "\n",
    "nyc_mask = (visa_df['employer_city'] == 'NEW YORK') & (visa_df['employer_state'] == 'NY')\n",
    "cert_mask = visa_df['case_status'] == 'CERTIFIED'\n",
    "\n",
    "\n",
    "df_16 = visa_df[columns_16][nyc_mask & cert_mask]\n",
    "df_16.columns = names\n",
    "df_06_16 = df_06_16.append(df_16)\n",
    "\n",
    "del visa_df, df_16"
   ]
  },
  {
   "cell_type": "markdown",
   "metadata": {},
   "source": [
    "### Ingest 2015"
   ]
  },
  {
   "cell_type": "code",
   "execution_count": 4,
   "metadata": {
    "collapsed": false
   },
   "outputs": [],
   "source": [
    "#ingest data into master df\n",
    "visa_df = pd.read_csv('/Users/ben.nichols/Downloads/h1b_applications_2015.csv')\n",
    "\n",
    "columns_15 = ['case_number',\n",
    "             'case_status',\n",
    "             'visa_class',\n",
    "             'employment_start_date',\n",
    "             'employment_end_date',\n",
    "             'employer_name',\n",
    "             'employer_city',\n",
    "             'employer_state',\n",
    "             'soc_code',\n",
    "             'soc_name',\n",
    "             'job_title',\n",
    "             'prevailing_wage']\n",
    "\n",
    "nyc_mask = (visa_df['employer_city'] == 'NEW YORK') & (visa_df['employer_state'] == 'NY')\n",
    "cert_mask = visa_df['case_status'] == 'CERTIFIED'\n",
    "\n",
    "\n",
    "df_15 = visa_df[columns_15][nyc_mask & cert_mask]\n",
    "df_15.columns = names\n",
    "df_06_16 = df_06_16.append(df_15)\n",
    "\n",
    "del visa_df, df_15"
   ]
  },
  {
   "cell_type": "markdown",
   "metadata": {},
   "source": [
    "### Ingest 2014"
   ]
  },
  {
   "cell_type": "code",
   "execution_count": 6,
   "metadata": {
    "collapsed": false
   },
   "outputs": [],
   "source": [
    "#ingest data into master df\n",
    "visa_df = pd.read_csv('/Users/ben.nichols/Downloads/h1b_applications_2014.csv')\n",
    "\n",
    "columns_14 = ['lca_case_number',\n",
    "             'status',\n",
    "             'visa_class',\n",
    "             'lca_case_employment_start_date',\n",
    "             'lca_case_employment_end_date',\n",
    "             'lca_case_employer_name',\n",
    "             'lca_case_employer_city',\n",
    "             'lca_case_employer_state',\n",
    "             'lca_case_soc_code',\n",
    "             'lca_case_soc_name',\n",
    "             'lca_case_job_title',\n",
    "             'lca_case_wage_rate_from']\n",
    "\n",
    "nyc_mask = (visa_df['lca_case_employer_city'] == 'NEW YORK') & (visa_df['lca_case_employer_state'] == 'NY')\n",
    "cert_mask = visa_df['status'] == 'CERTIFIED'\n",
    "\n",
    "\n",
    "df_14 = visa_df[columns_14][nyc_mask & cert_mask]\n",
    "df_14.columns = names\n",
    "df_06_16 = df_06_16.append(df_14)\n",
    "\n",
    "del visa_df, df_14"
   ]
  },
  {
   "cell_type": "markdown",
   "metadata": {},
   "source": [
    "### Ingest 2013"
   ]
  },
  {
   "cell_type": "code",
   "execution_count": 7,
   "metadata": {
    "collapsed": true
   },
   "outputs": [],
   "source": [
    "#ingest data into master df\n",
    "visa_df = pd.read_csv('/Users/ben.nichols/Downloads/h1b_applications_2013.csv')\n",
    "\n",
    "columns_13 = ['lca_case_number',\n",
    "             'status',\n",
    "             'visa_class',\n",
    "             'lca_case_employment_start_date',\n",
    "             'lca_case_employment_end_date',\n",
    "             'lca_case_employer_name',\n",
    "             'lca_case_employer_city',\n",
    "             'lca_case_employer_state',\n",
    "             'lca_case_soc_code',\n",
    "             'lca_case_soc_name',\n",
    "             'lca_case_job_title',\n",
    "             'lca_case_wage_rate_from']\n",
    "\n",
    "nyc_mask = (visa_df['lca_case_employer_city'] == 'NEW YORK') & (visa_df['lca_case_employer_state'] == 'NY')\n",
    "cert_mask = visa_df['status'] == 'CERTIFIED'\n",
    "\n",
    "\n",
    "df_13 = visa_df[columns_13][nyc_mask & cert_mask]\n",
    "df_13.columns = names\n",
    "df_06_16 = df_06_16.append(df_13)\n",
    "\n",
    "del visa_df, df_13"
   ]
  },
  {
   "cell_type": "markdown",
   "metadata": {},
   "source": [
    "### Ingest 2012"
   ]
  },
  {
   "cell_type": "code",
   "execution_count": 8,
   "metadata": {
    "collapsed": false
   },
   "outputs": [],
   "source": [
    "#ingest data into master df\n",
    "visa_df = pd.read_csv('/Users/ben.nichols/Downloads/h1b_applications_2012.csv')\n",
    "\n",
    "columns_12 = ['lca_case_number',\n",
    "             'status',\n",
    "             'visa_class',\n",
    "             'lca_case_employment_start_date',\n",
    "             'lca_case_employment_end_date',\n",
    "             'lca_case_employer_name',\n",
    "             'lca_case_employer_city',\n",
    "             'lca_case_employer_state',\n",
    "             'lca_case_soc_code',\n",
    "             'lca_case_soc_name',\n",
    "             'lca_case_job_title',\n",
    "             'lca_case_wage_rate_from']\n",
    "\n",
    "nyc_mask = (visa_df['lca_case_employer_city'] == 'NEW YORK') & (visa_df['lca_case_employer_state'] == 'NY')\n",
    "cert_mask = visa_df['status'] == 'CERTIFIED'\n",
    "\n",
    "\n",
    "df_12 = visa_df[columns_12][nyc_mask & cert_mask]\n",
    "df_12.columns = names\n",
    "df_06_16 = df_06_16.append(df_12)\n",
    "\n",
    "del visa_df, df_12"
   ]
  },
  {
   "cell_type": "markdown",
   "metadata": {},
   "source": [
    "### Ingest 2011"
   ]
  },
  {
   "cell_type": "code",
   "execution_count": 9,
   "metadata": {
    "collapsed": true
   },
   "outputs": [],
   "source": [
    "#ingest data into master df\n",
    "visa_df = pd.read_csv('/Users/ben.nichols/Downloads/h1b_applications_2011.csv')\n",
    "\n",
    "columns_11 = ['lca_case_number',\n",
    "             'status',\n",
    "             'visa_class',\n",
    "             'lca_case_employment_start_date',\n",
    "             'lca_case_employment_end_date',\n",
    "             'lca_case_employer_name',\n",
    "             'lca_case_employer_city',\n",
    "             'lca_case_employer_state',\n",
    "             'lca_case_soc_code',\n",
    "             'lca_case_soc_name',\n",
    "             'lca_case_job_title',\n",
    "             'lca_case_wage_rate_from']\n",
    "\n",
    "nyc_mask = (visa_df['lca_case_employer_city'] == 'NEW YORK') & (visa_df['lca_case_employer_state'] == 'NY')\n",
    "cert_mask = visa_df['status'] == 'CERTIFIED'\n",
    "\n",
    "\n",
    "df_11 = visa_df[columns_11][nyc_mask & cert_mask]\n",
    "df_11.columns = names\n",
    "df_06_16 = df_06_16.append(df_11)\n",
    "\n",
    "del visa_df, df_11"
   ]
  },
  {
   "cell_type": "markdown",
   "metadata": {},
   "source": [
    "### Ingest 2010"
   ]
  },
  {
   "cell_type": "code",
   "execution_count": 10,
   "metadata": {
    "collapsed": true
   },
   "outputs": [],
   "source": [
    "#ingest data into master df\n",
    "visa_df = pd.read_csv('/Users/ben.nichols/Downloads/h1b_applications_2010.csv')\n",
    "\n",
    "columns_10 = ['lca_case_number',\n",
    "             'status',\n",
    "             'visa_class',\n",
    "             'lca_case_employment_start_date',\n",
    "             'lca_case_employment_end_date',\n",
    "             'lca_case_employer_name',\n",
    "             'lca_case_employer_city',\n",
    "             'lca_case_employer_state',\n",
    "             'lca_case_soc_code',\n",
    "             'lca_case_soc_name',\n",
    "             'lca_case_job_title',\n",
    "             'lca_case_wage_rate_from']\n",
    "\n",
    "nyc_mask = (visa_df['lca_case_employer_city'] == 'NEW YORK') & (visa_df['lca_case_employer_state'] == 'NY')\n",
    "cert_mask = visa_df['status'] == 'CERTIFIED'\n",
    "\n",
    "\n",
    "df_10 = visa_df[columns_11][nyc_mask & cert_mask]\n",
    "df_10.columns = names\n",
    "df_06_16 = df_06_16.append(df_10)\n",
    "\n",
    "del visa_df, df_10"
   ]
  },
  {
   "cell_type": "markdown",
   "metadata": {},
   "source": [
    "#### Validate if there are duplicate cases, if so - deduplicate"
   ]
  },
  {
   "cell_type": "code",
   "execution_count": 11,
   "metadata": {
    "collapsed": false
   },
   "outputs": [
    {
     "data": {
      "text/plain": [
       "3"
      ]
     },
     "execution_count": 11,
     "metadata": {},
     "output_type": "execute_result"
    }
   ],
   "source": [
    "df = pd.DataFrame(df_06_16.groupby('case_number')['case_status'].count())\n",
    "len(df[df['case_status'] > 1])#IF >0 THEN THERE ARE DUPLICATES"
   ]
  },
  {
   "cell_type": "markdown",
   "metadata": {},
   "source": [
    "##### Deduplication methodology, keep a case (and metadata) which has the latest end date and drop duplicates from same year"
   ]
  },
  {
   "cell_type": "code",
   "execution_count": 12,
   "metadata": {
    "collapsed": false
   },
   "outputs": [],
   "source": [
    "df_06_16['max_end'] = df_06_16['employment_end_date'].apply(lambda x: int(x.replace('-','')))\n",
    "df_max = pd.DataFrame(df_06_16.groupby('case_number')['max_end'].max()).reset_index()\n",
    "\n",
    "df_06_16_dedup = df_06_16.merge(df_max, how='inner',\n",
    "                                left_on=['case_number','max_end'],\n",
    "                                right_on=['case_number','max_end'],\n",
    "                                left_index=False, right_index=False)\n",
    "\n",
    "df_06_16_dedup = df_06_16_dedup.drop_duplicates()"
   ]
  },
  {
   "cell_type": "code",
   "execution_count": 13,
   "metadata": {
    "collapsed": false
   },
   "outputs": [
    {
     "data": {
      "text/plain": [
       "2"
      ]
     },
     "execution_count": 13,
     "metadata": {},
     "output_type": "execute_result"
    }
   ],
   "source": [
    "# Check if there are duplicates in the deduplciated dataset\n",
    "\n",
    "df = pd.DataFrame(df_06_16_dedup.groupby('case_number')['case_status'].count())\n",
    "len(df[df['case_status'] > 1])#IF >0 THEN THERE ARE DUPLICATES"
   ]
  },
  {
   "cell_type": "markdown",
   "metadata": {},
   "source": [
    "##### Nuance -  There are 2 applications which are duplicated, but have different metadata.\n",
    " - Case I-200-15037-909445\n",
    " - Case I-200-15054-406343\n",
    " \n",
    "They will be left in for the remainder of this analysis"
   ]
  },
  {
   "cell_type": "code",
   "execution_count": 14,
   "metadata": {
    "collapsed": false
   },
   "outputs": [],
   "source": [
    "visa_nyc_df = df_06_16_dedup.set_index('case_number')"
   ]
  },
  {
   "cell_type": "code",
   "execution_count": 15,
   "metadata": {
    "collapsed": true
   },
   "outputs": [],
   "source": [
    "#function returns 1 for True 0 for False of whether taht visa would be active in a given year\n",
    "\n",
    "def is_active(st, end, year):\n",
    "    st = st\n",
    "    end = end\n",
    "    year = int(str(year)+'0000')\n",
    "    \n",
    "    if st >= year and end <= year:\n",
    "        return 1\n",
    "    else:\n",
    "        return 0"
   ]
  },
  {
   "cell_type": "code",
   "execution_count": 16,
   "metadata": {
    "collapsed": false
   },
   "outputs": [],
   "source": [
    "#create boolean columns indicating whether visa is live - by year\n",
    "\n",
    "visa_nyc_df['start_date_int'] = visa_nyc_df['employment_start_date'].apply(lambda x: int(x.replace('-','')))\n",
    "visa_nyc_df['end_date_int'] = visa_nyc_df['employment_end_date'].apply(lambda x: int(x.replace('-','')))\n",
    "\n",
    "visa_nyc_df['live_2016'] = visa_nyc_df.apply(lambda row: is_active(row['start_date_int'],row['end_date_int'], 2016), axis=1)\n",
    "#visa_nyc_df['live_2017'] = visa_nyc_df[]\n",
    "#visa_nyc_df['live_2018'] = visa_nyc_df[]\n",
    "#visa_nyc_df['live_2019'] = visa_nyc_df[]\n",
    "\n",
    "#df['Value'] = df.apply(lambda row: my_test(row['a'], row['c']), axis=1)"
   ]
  },
  {
   "cell_type": "markdown",
   "metadata": {},
   "source": [
    "# ------------------------------------------------------------------------------"
   ]
  },
  {
   "cell_type": "markdown",
   "metadata": {},
   "source": [
    "### Methodology and thought process for remainder of analysis:\n",
    "- Due to time contraints, I need to discontinue this analysis any further.\n",
    "\n",
    "- The remaining steps were as follows:\n",
    "    - create a boolean dataframe of 0s and 1s for each year [ 2016, 2017, 2018, 2019, 2020 ]\n",
    "    - group by / sum(1s) by job description to determine year over year how many visas are expiring\n",
    "    - also consider the year-over-year trends by role which would indicate directionality for a particular role\n",
    "    - applying this dirctionality of new visas, project the gap in the job market by job and make an estimate of number of new visas for taht position."
   ]
  },
  {
   "cell_type": "markdown",
   "metadata": {},
   "source": [
    "### Coder's Notes:"
   ]
  },
  {
   "cell_type": "markdown",
   "metadata": {},
   "source": [
    "Thank you for this opportunity to demonstraight my skills. This type of work excites me so it was no trouble to put together.\n",
    "\n",
    "Looking forward to your feedback.<br>\n",
    "Thanks,<br>\n",
    "Ben Nichols"
   ]
  }
 ],
 "metadata": {
  "kernelspec": {
   "display_name": "Python 2",
   "language": "python",
   "name": "python2"
  },
  "language_info": {
   "codemirror_mode": {
    "name": "ipython",
    "version": 2
   },
   "file_extension": ".py",
   "mimetype": "text/x-python",
   "name": "python",
   "nbconvert_exporter": "python",
   "pygments_lexer": "ipython2",
   "version": "2.7.10"
  }
 },
 "nbformat": 4,
 "nbformat_minor": 0
}
