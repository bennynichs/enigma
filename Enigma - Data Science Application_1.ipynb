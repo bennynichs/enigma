{
 "cells": [
  {
   "cell_type": "markdown",
   "metadata": {},
   "source": [
    "# Enigma Data Science Takehome: Notebook 1"
   ]
  },
  {
   "cell_type": "markdown",
   "metadata": {},
   "source": [
    "### Details:\n",
    "Section 1: Warm Up (1/4)\n",
    "\n",
    "1. Which companies applied for the largest number of H­1B visas where the job opening was located in NYC? Please describe any issues you may encounter summarizing the data by employer name.\n",
    "\n",
    "2. Calculate the mean and standard deviation of wages proposed for workers located in New York City and Mountain View. Are the average wages in these two locations statistically different? What factors could explain the results?\n",
    "\n",
    "3. For NYC, what is the relationship between the total number of H­1B visas requested by an employer and the average wages proposed? Visually represent this relationship if appropriate. Is the relationship statistically significant? What might explain this relationship?\n",
    "\n",
    "\n",
    "### Data Source:\n",
    "Data downloaded as csv from Enigma's Abstract platform here: https://app.enigma.io/table/us.gov.dol.oflc.h1b.2014"
   ]
  },
  {
   "cell_type": "code",
   "execution_count": 2,
   "metadata": {
    "collapsed": false
   },
   "outputs": [],
   "source": [
    "#These scripts are running on Python version 2.7.10\n",
    "\n",
    "import pandas as pd\n",
    "import numpy as np\n",
    "from scipy import stats"
   ]
  },
  {
   "cell_type": "code",
   "execution_count": 3,
   "metadata": {
    "collapsed": true
   },
   "outputs": [],
   "source": [
    "#ingest data into Pandas Df\n",
    "\n",
    "#set folder location of data\n",
    "folder_loc = '/Users/benjaminnichols/Desktop/enigma_data/'\n",
    "\n",
    "visa_df = pd.read_csv(folder_loc+'h1b_applications_2014.csv')"
   ]
  },
  {
   "cell_type": "markdown",
   "metadata": {},
   "source": [
    "# Data Prep"
   ]
  },
  {
   "cell_type": "code",
   "execution_count": 4,
   "metadata": {
    "collapsed": false
   },
   "outputs": [
    {
     "data": {
      "text/plain": [
       "['H-1B', 'H-1B1 Chile', 'H-1B1 Singapore', 'E-3 Australian']"
      ]
     },
     "execution_count": 4,
     "metadata": {},
     "output_type": "execute_result"
    }
   ],
   "source": [
    "#different visa types\n",
    "\n",
    "list(visa_df['visa_class'].unique())"
   ]
  },
  {
   "cell_type": "code",
   "execution_count": 5,
   "metadata": {
    "collapsed": false
   },
   "outputs": [
    {
     "data": {
      "text/plain": [
       "visa_class\n",
       "E-3 Australian     0.018183\n",
       "H-1B               0.979157\n",
       "H-1B1 Chile        0.001072\n",
       "H-1B1 Singapore    0.001588\n",
       "Name: PercentOfApps, dtype: float64"
      ]
     },
     "execution_count": 5,
     "metadata": {},
     "output_type": "execute_result"
    }
   ],
   "source": [
    "visa_counts = pd.DataFrame(\n",
    "        visa_df.groupby('visa_class')['serialid']\n",
    "        .count()\n",
    "        .rename(index = str, columns='application_count'))\n",
    "visa_counts.columns = ['application_count']\n",
    "visa_counts['PercentOfApps'] = visa_counts['application_count'].apply(lambda x: x*1.0 / visa_counts['application_count'].sum())\n",
    "\n",
    "#Consider each visa type as a percentage of total visa applications.\n",
    "visa_counts['PercentOfApps']"
   ]
  },
  {
   "cell_type": "markdown",
   "metadata": {},
   "source": [
    "### Assumption: H-1B visas does not include the following visa types, omitting 2.1% of total applications from further analysis:\n",
    "    E-3 Australian\n",
    "    H-1B1 Chile\n",
    "    H-1B1 Singapore\n",
    "    \n",
    "Differences in the E3 visa type can be explored further here:\n",
    "- https://en.wikipedia.org/wiki/E-3_visa\n",
    "- https://www.visacoach.org/2010/05/18/e3-visa-difference-to-the-h1b-visa\n",
    "\n",
    "The differences in the H-1B1 Chile and H-1B1 Singapore can be explored further here:\n",
    "- https://en.wikipedia.org/wiki/H-1B1_visa\n",
    "\n",
    "#### Rationale:\n",
    "The fundamental differences in these visa types may mislead the analysis of H-1B visa related analyses"
   ]
  },
  {
   "cell_type": "code",
   "execution_count": 6,
   "metadata": {
    "collapsed": false
   },
   "outputs": [],
   "source": [
    "#create an H-1B specific dataset, removing the other visa types\n",
    "h1b_df = visa_df[visa_df['visa_class'] == 'H-1B']"
   ]
  },
  {
   "cell_type": "code",
   "execution_count": 7,
   "metadata": {
    "collapsed": false
   },
   "outputs": [
    {
     "data": {
      "text/plain": [
       "Series([], Name: serialid, dtype: int64)"
      ]
     },
     "execution_count": 7,
     "metadata": {},
     "output_type": "execute_result"
    }
   ],
   "source": [
    "#determine if cases are repeated in the dataset\n",
    "\n",
    "case_srs = h1b_df.groupby('lca_case_number')['serialid'].count()\n",
    "case_srs[case_srs > 1] #empty series ==> non reapeated cases"
   ]
  },
  {
   "cell_type": "markdown",
   "metadata": {},
   "source": [
    "# Section 1"
   ]
  },
  {
   "cell_type": "markdown",
   "metadata": {},
   "source": [
    "# Q1\n",
    "##### Which companies applied for the largest number of H­1B visas where the job opening was located in NYC? Please describe any issues you may encounter summarizing the data by employer name."
   ]
  },
  {
   "cell_type": "code",
   "execution_count": 13,
   "metadata": {
    "collapsed": false
   },
   "outputs": [],
   "source": [
    "ny_mask = ((h1b_df['lca_case_employer_city'] == 'NEW YORK') & (h1b_df['lca_case_employer_state'] == 'NY'))\n",
    "\n",
    "employer_apps = pd.DataFrame(h1b_df[ny_mask]\n",
    "     .groupby('lca_case_employer_name')['serialid']\n",
    "     .count()\n",
    "     ).sort_values('serialid', axis=0, ascending=False)\n",
    "employer_apps.columns = ['application_count']\n"
   ]
  },
  {
   "cell_type": "markdown",
   "metadata": {},
   "source": [
    "### Top 50 NYC-based employers by application count"
   ]
  },
  {
   "cell_type": "code",
   "execution_count": 15,
   "metadata": {
    "collapsed": false
   },
   "outputs": [
    {
     "data": {
      "text/html": [
       "<div>\n",
       "<table border=\"1\" class=\"dataframe\">\n",
       "  <thead>\n",
       "    <tr style=\"text-align: right;\">\n",
       "      <th></th>\n",
       "      <th>application_count</th>\n",
       "    </tr>\n",
       "    <tr>\n",
       "      <th>lca_case_employer_name</th>\n",
       "      <th></th>\n",
       "    </tr>\n",
       "  </thead>\n",
       "  <tbody>\n",
       "    <tr>\n",
       "      <th>MPHASIS CORPORATION</th>\n",
       "      <td>944</td>\n",
       "    </tr>\n",
       "    <tr>\n",
       "      <th>GOLDMAN, SACHS &amp; CO.</th>\n",
       "      <td>594</td>\n",
       "    </tr>\n",
       "    <tr>\n",
       "      <th>MORGAN STANLEY &amp; CO. LLC</th>\n",
       "      <td>450</td>\n",
       "    </tr>\n",
       "    <tr>\n",
       "      <th>CITIBANK, N.A.</th>\n",
       "      <td>403</td>\n",
       "    </tr>\n",
       "    <tr>\n",
       "      <th>BLOOMBERG, LP</th>\n",
       "      <td>355</td>\n",
       "    </tr>\n",
       "    <tr>\n",
       "      <th>CREDIT SUISSE SECURITIES (USA) LLC</th>\n",
       "      <td>334</td>\n",
       "    </tr>\n",
       "    <tr>\n",
       "      <th>COLUMBIA UNIVERSITY</th>\n",
       "      <td>303</td>\n",
       "    </tr>\n",
       "    <tr>\n",
       "      <th>CITIGROUP GLOBAL MARKETS INC.</th>\n",
       "      <td>270</td>\n",
       "    </tr>\n",
       "    <tr>\n",
       "      <th>AMERICAN EXPRESS TRAVEL RELATED SERVICES COMPANY,</th>\n",
       "      <td>225</td>\n",
       "    </tr>\n",
       "    <tr>\n",
       "      <th>BARCLAYS SERVICES CORP.</th>\n",
       "      <td>223</td>\n",
       "    </tr>\n",
       "    <tr>\n",
       "      <th>GOLDMAN SACHS &amp; CO.</th>\n",
       "      <td>223</td>\n",
       "    </tr>\n",
       "    <tr>\n",
       "      <th>MOUNT SINAI MEDICAL CENTER</th>\n",
       "      <td>223</td>\n",
       "    </tr>\n",
       "    <tr>\n",
       "      <th>DEUTSCHE BANK SECURITIES INC.</th>\n",
       "      <td>215</td>\n",
       "    </tr>\n",
       "    <tr>\n",
       "      <th>BLACKROCK FINANCIAL MANAGEMENT, INC.</th>\n",
       "      <td>175</td>\n",
       "    </tr>\n",
       "    <tr>\n",
       "      <th>MCKINSEY &amp; COMPANY, INC. UNITED STATES</th>\n",
       "      <td>170</td>\n",
       "    </tr>\n",
       "    <tr>\n",
       "      <th>MEMORIAL SLOAN-KETTERING CANCER CENTER</th>\n",
       "      <td>159</td>\n",
       "    </tr>\n",
       "    <tr>\n",
       "      <th>NEW YORK UNIVERSITY SCHOOL OF MEDICINE</th>\n",
       "      <td>155</td>\n",
       "    </tr>\n",
       "    <tr>\n",
       "      <th>BARCLAYS CAPITAL INC.</th>\n",
       "      <td>153</td>\n",
       "    </tr>\n",
       "    <tr>\n",
       "      <th>NEW YORK UNIVERSITY</th>\n",
       "      <td>143</td>\n",
       "    </tr>\n",
       "    <tr>\n",
       "      <th>WEILL CORNELL MEDICAL COLLEGE</th>\n",
       "      <td>137</td>\n",
       "    </tr>\n",
       "    <tr>\n",
       "      <th>EXLSERVICE.COM, LLC</th>\n",
       "      <td>134</td>\n",
       "    </tr>\n",
       "    <tr>\n",
       "      <th>BAHA INDUSTRIES CORP.</th>\n",
       "      <td>132</td>\n",
       "    </tr>\n",
       "    <tr>\n",
       "      <th>JEAN MARTIN INC</th>\n",
       "      <td>126</td>\n",
       "    </tr>\n",
       "    <tr>\n",
       "      <th>DEUTSCHE BANK NEW YORK BRANCH</th>\n",
       "      <td>123</td>\n",
       "    </tr>\n",
       "    <tr>\n",
       "      <th>TRINGAPPS INC</th>\n",
       "      <td>119</td>\n",
       "    </tr>\n",
       "    <tr>\n",
       "      <th>CITIGROUP TECHNOLOGY, INC.</th>\n",
       "      <td>111</td>\n",
       "    </tr>\n",
       "    <tr>\n",
       "      <th>PROLIFICS, INC.</th>\n",
       "      <td>106</td>\n",
       "    </tr>\n",
       "    <tr>\n",
       "      <th>BARCLAYS BANK DELAWARE</th>\n",
       "      <td>93</td>\n",
       "    </tr>\n",
       "    <tr>\n",
       "      <th>THOMSON REUTERS (MARKETS) LLC</th>\n",
       "      <td>90</td>\n",
       "    </tr>\n",
       "    <tr>\n",
       "      <th>AMERICAN EXPRESS TRAVEL RELATED SERVICES CO., INC.</th>\n",
       "      <td>90</td>\n",
       "    </tr>\n",
       "    <tr>\n",
       "      <th>THE VERITAS HEALTHCARE SOLUTIONS, LLC</th>\n",
       "      <td>82</td>\n",
       "    </tr>\n",
       "    <tr>\n",
       "      <th>ENGAGE INFORMATION, INC.</th>\n",
       "      <td>79</td>\n",
       "    </tr>\n",
       "    <tr>\n",
       "      <th>SG AMERICAS SECURITIES, LLC</th>\n",
       "      <td>77</td>\n",
       "    </tr>\n",
       "    <tr>\n",
       "      <th>BARCLAYS CAPITAL SERVICES INC.</th>\n",
       "      <td>77</td>\n",
       "    </tr>\n",
       "    <tr>\n",
       "      <th>CITICORP CREDIT SERVICES, INC. (USA)</th>\n",
       "      <td>74</td>\n",
       "    </tr>\n",
       "    <tr>\n",
       "      <th>AMERICAN INTERNATIONAL GROUP, INC.</th>\n",
       "      <td>73</td>\n",
       "    </tr>\n",
       "    <tr>\n",
       "      <th>METLIFE GROUP, INC.</th>\n",
       "      <td>72</td>\n",
       "    </tr>\n",
       "    <tr>\n",
       "      <th>SOFTPATH SYSTEMS INC</th>\n",
       "      <td>72</td>\n",
       "    </tr>\n",
       "    <tr>\n",
       "      <th>MITCHELL/MARTIN, INC.</th>\n",
       "      <td>71</td>\n",
       "    </tr>\n",
       "    <tr>\n",
       "      <th>CITICORP NORTH AMERICA, INC.</th>\n",
       "      <td>71</td>\n",
       "    </tr>\n",
       "    <tr>\n",
       "      <th>GOLDMAN SACHS SERVICES LLC</th>\n",
       "      <td>70</td>\n",
       "    </tr>\n",
       "    <tr>\n",
       "      <th>MEDITERRANEAN SHIPPING COMPANY (USA), INC.</th>\n",
       "      <td>70</td>\n",
       "    </tr>\n",
       "    <tr>\n",
       "      <th>BLACKROCK INVESTMENT MANAGEMENT, LLC</th>\n",
       "      <td>69</td>\n",
       "    </tr>\n",
       "    <tr>\n",
       "      <th>PFIZER INC</th>\n",
       "      <td>66</td>\n",
       "    </tr>\n",
       "    <tr>\n",
       "      <th>AIG PC GLOBAL SERVICES, INC.</th>\n",
       "      <td>63</td>\n",
       "    </tr>\n",
       "    <tr>\n",
       "      <th>OPENWAVE COMPUTING LLC</th>\n",
       "      <td>63</td>\n",
       "    </tr>\n",
       "    <tr>\n",
       "      <th>JEFFERIES LLC</th>\n",
       "      <td>60</td>\n",
       "    </tr>\n",
       "    <tr>\n",
       "      <th>NOMURA AMERICA SERVICES, LLC</th>\n",
       "      <td>59</td>\n",
       "    </tr>\n",
       "    <tr>\n",
       "      <th>THE NIELSEN COMPANY (US), LLC</th>\n",
       "      <td>57</td>\n",
       "    </tr>\n",
       "    <tr>\n",
       "      <th>PROFESSIONAL ACCESS LTD.</th>\n",
       "      <td>56</td>\n",
       "    </tr>\n",
       "  </tbody>\n",
       "</table>\n",
       "</div>"
      ],
      "text/plain": [
       "                                                    application_count\n",
       "lca_case_employer_name                                               \n",
       "MPHASIS CORPORATION                                               944\n",
       "GOLDMAN, SACHS & CO.                                              594\n",
       "MORGAN STANLEY & CO. LLC                                          450\n",
       "CITIBANK, N.A.                                                    403\n",
       "BLOOMBERG, LP                                                     355\n",
       "CREDIT SUISSE SECURITIES (USA) LLC                                334\n",
       "COLUMBIA UNIVERSITY                                               303\n",
       "CITIGROUP GLOBAL MARKETS INC.                                     270\n",
       "AMERICAN EXPRESS TRAVEL RELATED SERVICES COMPANY,                 225\n",
       "BARCLAYS SERVICES CORP.                                           223\n",
       "GOLDMAN SACHS & CO.                                               223\n",
       "MOUNT SINAI MEDICAL CENTER                                        223\n",
       "DEUTSCHE BANK SECURITIES INC.                                     215\n",
       "BLACKROCK FINANCIAL MANAGEMENT, INC.                              175\n",
       "MCKINSEY & COMPANY, INC. UNITED STATES                            170\n",
       "MEMORIAL SLOAN-KETTERING CANCER CENTER                            159\n",
       "NEW YORK UNIVERSITY SCHOOL OF MEDICINE                            155\n",
       "BARCLAYS CAPITAL INC.                                             153\n",
       "NEW YORK UNIVERSITY                                               143\n",
       "WEILL CORNELL MEDICAL COLLEGE                                     137\n",
       "EXLSERVICE.COM, LLC                                               134\n",
       "BAHA INDUSTRIES CORP.                                             132\n",
       "JEAN MARTIN INC                                                   126\n",
       "DEUTSCHE BANK NEW YORK BRANCH                                     123\n",
       "TRINGAPPS INC                                                     119\n",
       "CITIGROUP TECHNOLOGY, INC.                                        111\n",
       "PROLIFICS, INC.                                                   106\n",
       "BARCLAYS BANK DELAWARE                                             93\n",
       "THOMSON REUTERS (MARKETS) LLC                                      90\n",
       "AMERICAN EXPRESS TRAVEL RELATED SERVICES CO., INC.                 90\n",
       "THE VERITAS HEALTHCARE SOLUTIONS, LLC                              82\n",
       "ENGAGE INFORMATION, INC.                                           79\n",
       "SG AMERICAS SECURITIES, LLC                                        77\n",
       "BARCLAYS CAPITAL SERVICES INC.                                     77\n",
       "CITICORP CREDIT SERVICES, INC. (USA)                               74\n",
       "AMERICAN INTERNATIONAL GROUP, INC.                                 73\n",
       "METLIFE GROUP, INC.                                                72\n",
       "SOFTPATH SYSTEMS INC                                               72\n",
       "MITCHELL/MARTIN, INC.                                              71\n",
       "CITICORP NORTH AMERICA, INC.                                       71\n",
       "GOLDMAN SACHS SERVICES LLC                                         70\n",
       "MEDITERRANEAN SHIPPING COMPANY (USA), INC.                         70\n",
       "BLACKROCK INVESTMENT MANAGEMENT, LLC                               69\n",
       "PFIZER INC                                                         66\n",
       "AIG PC GLOBAL SERVICES, INC.                                       63\n",
       "OPENWAVE COMPUTING LLC                                             63\n",
       "JEFFERIES LLC                                                      60\n",
       "NOMURA AMERICA SERVICES, LLC                                       59\n",
       "THE NIELSEN COMPANY (US), LLC                                      57\n",
       "PROFESSIONAL ACCESS LTD.                                           56"
      ]
     },
     "execution_count": 15,
     "metadata": {},
     "output_type": "execute_result"
    }
   ],
   "source": [
    "employer_apps.head(50)"
   ]
  },
  {
   "cell_type": "markdown",
   "metadata": {},
   "source": [
    "##### Caveat:\n",
    "There are two issues to tackle: (1) quality issues and (2) complexity of the corporate landscape:\n",
    "\n",
    "(1) The same Employer may be represented multiple times due to differences in spelling, punctuation, or corporate accreditation specification (e.g. including/excluding 'inc')\n",
    "\n",
    "(2) Subsidiary companies listed as the primary employer if some, but not all visa applications."
   ]
  },
  {
   "cell_type": "code",
   "execution_count": 17,
   "metadata": {
    "collapsed": false
   },
   "outputs": [],
   "source": [
    "#Resolve some of the data formatting issues:\n",
    "\n",
    "employer_apps_frmt = employer_apps.copy()\n",
    "employer_apps_frmt = employer_apps_frmt.reset_index()\n",
    "employer_apps_frmt['lca_case_employer_name'] = employer_apps_frmt['lca_case_employer_name'].map(lambda x: x.replace(',','')\n",
    "                                                       .replace('.',''))\n",
    "\n",
    "#group by the new employer names and sum the application counts from the preformatted data\n",
    "\n",
    "employer_apps_frmt = pd.DataFrame(employer_apps_frmt\n",
    "                                    .groupby('lca_case_employer_name')['application_count']\n",
    "                                    .sum()).sort_values('application_count', axis=0, ascending=False)"
   ]
  },
  {
   "cell_type": "markdown",
   "metadata": {},
   "source": [
    "### Top 50 NYC-based employers by application count (formatted)"
   ]
  },
  {
   "cell_type": "code",
   "execution_count": 18,
   "metadata": {
    "collapsed": false
   },
   "outputs": [
    {
     "data": {
      "text/html": [
       "<div>\n",
       "<table border=\"1\" class=\"dataframe\">\n",
       "  <thead>\n",
       "    <tr style=\"text-align: right;\">\n",
       "      <th></th>\n",
       "      <th>application_count</th>\n",
       "    </tr>\n",
       "    <tr>\n",
       "      <th>lca_case_employer_name</th>\n",
       "      <th></th>\n",
       "    </tr>\n",
       "  </thead>\n",
       "  <tbody>\n",
       "    <tr>\n",
       "      <th>MPHASIS CORPORATION</th>\n",
       "      <td>944</td>\n",
       "    </tr>\n",
       "    <tr>\n",
       "      <th>GOLDMAN SACHS &amp; CO</th>\n",
       "      <td>819</td>\n",
       "    </tr>\n",
       "    <tr>\n",
       "      <th>MORGAN STANLEY &amp; CO LLC</th>\n",
       "      <td>493</td>\n",
       "    </tr>\n",
       "    <tr>\n",
       "      <th>CITIBANK NA</th>\n",
       "      <td>403</td>\n",
       "    </tr>\n",
       "    <tr>\n",
       "      <th>BLOOMBERG LP</th>\n",
       "      <td>363</td>\n",
       "    </tr>\n",
       "    <tr>\n",
       "      <th>CREDIT SUISSE SECURITIES (USA) LLC</th>\n",
       "      <td>334</td>\n",
       "    </tr>\n",
       "    <tr>\n",
       "      <th>COLUMBIA UNIVERSITY</th>\n",
       "      <td>303</td>\n",
       "    </tr>\n",
       "    <tr>\n",
       "      <th>CITIGROUP GLOBAL MARKETS INC</th>\n",
       "      <td>270</td>\n",
       "    </tr>\n",
       "    <tr>\n",
       "      <th>AMERICAN EXPRESS TRAVEL RELATED SERVICES COMPANY</th>\n",
       "      <td>225</td>\n",
       "    </tr>\n",
       "    <tr>\n",
       "      <th>BARCLAYS SERVICES CORP</th>\n",
       "      <td>223</td>\n",
       "    </tr>\n",
       "    <tr>\n",
       "      <th>MOUNT SINAI MEDICAL CENTER</th>\n",
       "      <td>223</td>\n",
       "    </tr>\n",
       "    <tr>\n",
       "      <th>DEUTSCHE BANK SECURITIES INC</th>\n",
       "      <td>215</td>\n",
       "    </tr>\n",
       "    <tr>\n",
       "      <th>BLACKROCK FINANCIAL MANAGEMENT INC</th>\n",
       "      <td>175</td>\n",
       "    </tr>\n",
       "    <tr>\n",
       "      <th>MCKINSEY &amp; COMPANY INC UNITED STATES</th>\n",
       "      <td>170</td>\n",
       "    </tr>\n",
       "    <tr>\n",
       "      <th>MEMORIAL SLOAN-KETTERING CANCER CENTER</th>\n",
       "      <td>159</td>\n",
       "    </tr>\n",
       "    <tr>\n",
       "      <th>NEW YORK UNIVERSITY SCHOOL OF MEDICINE</th>\n",
       "      <td>155</td>\n",
       "    </tr>\n",
       "    <tr>\n",
       "      <th>BARCLAYS CAPITAL INC</th>\n",
       "      <td>153</td>\n",
       "    </tr>\n",
       "    <tr>\n",
       "      <th>NEW YORK UNIVERSITY</th>\n",
       "      <td>143</td>\n",
       "    </tr>\n",
       "    <tr>\n",
       "      <th>WEILL CORNELL MEDICAL COLLEGE</th>\n",
       "      <td>137</td>\n",
       "    </tr>\n",
       "    <tr>\n",
       "      <th>EXLSERVICECOM LLC</th>\n",
       "      <td>134</td>\n",
       "    </tr>\n",
       "    <tr>\n",
       "      <th>BAHA INDUSTRIES CORP</th>\n",
       "      <td>132</td>\n",
       "    </tr>\n",
       "    <tr>\n",
       "      <th>JEAN MARTIN INC</th>\n",
       "      <td>126</td>\n",
       "    </tr>\n",
       "    <tr>\n",
       "      <th>DEUTSCHE BANK NEW YORK BRANCH</th>\n",
       "      <td>123</td>\n",
       "    </tr>\n",
       "    <tr>\n",
       "      <th>TRINGAPPS INC</th>\n",
       "      <td>119</td>\n",
       "    </tr>\n",
       "    <tr>\n",
       "      <th>CITIGROUP TECHNOLOGY INC</th>\n",
       "      <td>111</td>\n",
       "    </tr>\n",
       "    <tr>\n",
       "      <th>PROLIFICS INC</th>\n",
       "      <td>106</td>\n",
       "    </tr>\n",
       "    <tr>\n",
       "      <th>BARCLAYS BANK DELAWARE</th>\n",
       "      <td>93</td>\n",
       "    </tr>\n",
       "    <tr>\n",
       "      <th>AMERICAN EXPRESS TRAVEL RELATED SERVICES CO INC</th>\n",
       "      <td>90</td>\n",
       "    </tr>\n",
       "    <tr>\n",
       "      <th>THOMSON REUTERS (MARKETS) LLC</th>\n",
       "      <td>90</td>\n",
       "    </tr>\n",
       "    <tr>\n",
       "      <th>THE VERITAS HEALTHCARE SOLUTIONS LLC</th>\n",
       "      <td>87</td>\n",
       "    </tr>\n",
       "    <tr>\n",
       "      <th>SG AMERICAS SECURITIES LLC</th>\n",
       "      <td>80</td>\n",
       "    </tr>\n",
       "    <tr>\n",
       "      <th>ENGAGE INFORMATION INC</th>\n",
       "      <td>79</td>\n",
       "    </tr>\n",
       "    <tr>\n",
       "      <th>BARCLAYS CAPITAL SERVICES INC</th>\n",
       "      <td>78</td>\n",
       "    </tr>\n",
       "    <tr>\n",
       "      <th>CITICORP CREDIT SERVICES INC (USA)</th>\n",
       "      <td>74</td>\n",
       "    </tr>\n",
       "    <tr>\n",
       "      <th>METLIFE GROUP INC</th>\n",
       "      <td>73</td>\n",
       "    </tr>\n",
       "    <tr>\n",
       "      <th>AMERICAN INTERNATIONAL GROUP INC</th>\n",
       "      <td>73</td>\n",
       "    </tr>\n",
       "    <tr>\n",
       "      <th>TANISHA SYSTEMS INC</th>\n",
       "      <td>72</td>\n",
       "    </tr>\n",
       "    <tr>\n",
       "      <th>SOFTPATH SYSTEMS INC</th>\n",
       "      <td>72</td>\n",
       "    </tr>\n",
       "    <tr>\n",
       "      <th>MITCHELL/MARTIN INC</th>\n",
       "      <td>71</td>\n",
       "    </tr>\n",
       "    <tr>\n",
       "      <th>CITICORP NORTH AMERICA INC</th>\n",
       "      <td>71</td>\n",
       "    </tr>\n",
       "    <tr>\n",
       "      <th>GOLDMAN SACHS SERVICES LLC</th>\n",
       "      <td>70</td>\n",
       "    </tr>\n",
       "    <tr>\n",
       "      <th>MEDITERRANEAN SHIPPING COMPANY (USA) INC</th>\n",
       "      <td>70</td>\n",
       "    </tr>\n",
       "    <tr>\n",
       "      <th>BLACKROCK INVESTMENT MANAGEMENT LLC</th>\n",
       "      <td>69</td>\n",
       "    </tr>\n",
       "    <tr>\n",
       "      <th>FINSOFT CONSULTANTS INC</th>\n",
       "      <td>68</td>\n",
       "    </tr>\n",
       "    <tr>\n",
       "      <th>PFIZER INC</th>\n",
       "      <td>66</td>\n",
       "    </tr>\n",
       "    <tr>\n",
       "      <th>OPENWAVE COMPUTING LLC</th>\n",
       "      <td>64</td>\n",
       "    </tr>\n",
       "    <tr>\n",
       "      <th>AIG PC GLOBAL SERVICES INC</th>\n",
       "      <td>63</td>\n",
       "    </tr>\n",
       "    <tr>\n",
       "      <th>GLOBAL APPLICATIONS SOLUTION LLC</th>\n",
       "      <td>61</td>\n",
       "    </tr>\n",
       "    <tr>\n",
       "      <th>JEFFERIES LLC</th>\n",
       "      <td>60</td>\n",
       "    </tr>\n",
       "    <tr>\n",
       "      <th>NOMURA AMERICA SERVICES LLC</th>\n",
       "      <td>59</td>\n",
       "    </tr>\n",
       "  </tbody>\n",
       "</table>\n",
       "</div>"
      ],
      "text/plain": [
       "                                                  application_count\n",
       "lca_case_employer_name                                             \n",
       "MPHASIS CORPORATION                                             944\n",
       "GOLDMAN SACHS & CO                                              819\n",
       "MORGAN STANLEY & CO LLC                                         493\n",
       "CITIBANK NA                                                     403\n",
       "BLOOMBERG LP                                                    363\n",
       "CREDIT SUISSE SECURITIES (USA) LLC                              334\n",
       "COLUMBIA UNIVERSITY                                             303\n",
       "CITIGROUP GLOBAL MARKETS INC                                    270\n",
       "AMERICAN EXPRESS TRAVEL RELATED SERVICES COMPANY                225\n",
       "BARCLAYS SERVICES CORP                                          223\n",
       "MOUNT SINAI MEDICAL CENTER                                      223\n",
       "DEUTSCHE BANK SECURITIES INC                                    215\n",
       "BLACKROCK FINANCIAL MANAGEMENT INC                              175\n",
       "MCKINSEY & COMPANY INC UNITED STATES                            170\n",
       "MEMORIAL SLOAN-KETTERING CANCER CENTER                          159\n",
       "NEW YORK UNIVERSITY SCHOOL OF MEDICINE                          155\n",
       "BARCLAYS CAPITAL INC                                            153\n",
       "NEW YORK UNIVERSITY                                             143\n",
       "WEILL CORNELL MEDICAL COLLEGE                                   137\n",
       "EXLSERVICECOM LLC                                               134\n",
       "BAHA INDUSTRIES CORP                                            132\n",
       "JEAN MARTIN INC                                                 126\n",
       "DEUTSCHE BANK NEW YORK BRANCH                                   123\n",
       "TRINGAPPS INC                                                   119\n",
       "CITIGROUP TECHNOLOGY INC                                        111\n",
       "PROLIFICS INC                                                   106\n",
       "BARCLAYS BANK DELAWARE                                           93\n",
       "AMERICAN EXPRESS TRAVEL RELATED SERVICES CO INC                  90\n",
       "THOMSON REUTERS (MARKETS) LLC                                    90\n",
       "THE VERITAS HEALTHCARE SOLUTIONS LLC                             87\n",
       "SG AMERICAS SECURITIES LLC                                       80\n",
       "ENGAGE INFORMATION INC                                           79\n",
       "BARCLAYS CAPITAL SERVICES INC                                    78\n",
       "CITICORP CREDIT SERVICES INC (USA)                               74\n",
       "METLIFE GROUP INC                                                73\n",
       "AMERICAN INTERNATIONAL GROUP INC                                 73\n",
       "TANISHA SYSTEMS INC                                              72\n",
       "SOFTPATH SYSTEMS INC                                             72\n",
       "MITCHELL/MARTIN INC                                              71\n",
       "CITICORP NORTH AMERICA INC                                       71\n",
       "GOLDMAN SACHS SERVICES LLC                                       70\n",
       "MEDITERRANEAN SHIPPING COMPANY (USA) INC                         70\n",
       "BLACKROCK INVESTMENT MANAGEMENT LLC                              69\n",
       "FINSOFT CONSULTANTS INC                                          68\n",
       "PFIZER INC                                                       66\n",
       "OPENWAVE COMPUTING LLC                                           64\n",
       "AIG PC GLOBAL SERVICES INC                                       63\n",
       "GLOBAL APPLICATIONS SOLUTION LLC                                 61\n",
       "JEFFERIES LLC                                                    60\n",
       "NOMURA AMERICA SERVICES LLC                                      59"
      ]
     },
     "execution_count": 18,
     "metadata": {},
     "output_type": "execute_result"
    }
   ],
   "source": [
    "employer_apps_frmt.head(50)"
   ]
  },
  {
   "cell_type": "markdown",
   "metadata": {},
   "source": [
    "# Q2\n",
    "Calculate the mean and standard deviation of wages proposed for workers located in New York City and Mountain View. Are the average wages in these two locations statistically different? What factors could explain the results?"
   ]
  },
  {
   "cell_type": "code",
   "execution_count": 19,
   "metadata": {
    "collapsed": false
   },
   "outputs": [],
   "source": [
    "#according to abstract, teh wage field 'lca_case_wage_rate_from' is the Employer's proposed wage rate.\n",
    "\n",
    "nyc_mask = ((h1b_df['lca_case_employer_city'] == 'NEW YORK') & (h1b_df['lca_case_employer_state'] == 'NY'))\n",
    "moutainview_mask = ((h1b_df['lca_case_employer_city'] == 'MOUNTAIN VIEW') & (h1b_df['lca_case_employer_state'] == 'CA'))\n",
    "cert_mask = (h1b_df['status'] == 'CERTIFIED')\n",
    "\n",
    "#NYC\n",
    "nyc_wages = h1b_df[nyc_mask]['lca_case_wage_rate_from']\n",
    "nyc_prop_wage_mean = np.mean(nyc_wages)\n",
    "nyc_prop_wage_std = np.std(nyc_wages)\n",
    "\n",
    "#Mountain View\n",
    "mv_wages = h1b_df[moutainview_mask]['lca_case_wage_rate_from']\n",
    "mv_prop_wage_mean = np.mean(mv_wages)\n",
    "mv_prop_wage_std = np.std(mv_wages)\n"
   ]
  },
  {
   "cell_type": "code",
   "execution_count": 20,
   "metadata": {
    "collapsed": false
   },
   "outputs": [
    {
     "name": "stdout",
     "output_type": "stream",
     "text": [
      "The mean and standard deviation in proposed wages for H-1B visas in NYC are: 84381.6657099381, and 62664.76465201309, respectfully.\n",
      "\n",
      "The mean and standard deviation in proposed wages for H-1B visas in Mountainview are: 117580.42429095121, and 35271.71802255795, respectfully.\n"
     ]
    }
   ],
   "source": [
    "print('The mean and standard deviation in proposed wages for H-1B visas in NYC are: '\n",
    "    +str(nyc_prop_wage_mean)+\\\n",
    "    ', and '\\\n",
    "    +str(nyc_prop_wage_std)+\\\n",
    "     ', respectfully.\\n')\n",
    "print('The mean and standard deviation in proposed wages for H-1B visas in Mountainview are: '\n",
    "    +str(mv_prop_wage_mean)+\\\n",
    "    ', and '\\\n",
    "    +str(mv_prop_wage_std)+\\\n",
    "     ', respectfully.')"
   ]
  },
  {
   "cell_type": "markdown",
   "metadata": {},
   "source": [
    "#### For the sake of comparing whether the means of these populations are statistically different, let's assume a 2 tailed t-test at the 95th percent confidence interval.\n",
    "\n",
    "H0: The average proposed wages are the same in the two locations\n",
    "\n",
    "H1: The average proposed wages are different in the two locations\n",
    "\n",
    "#### Outcome\n",
    "Fail to reject H0 if p-val > 0.05\n",
    "\n",
    "Reject H0 if p-val < 0.05 and accept H1."
   ]
  },
  {
   "cell_type": "code",
   "execution_count": 21,
   "metadata": {
    "collapsed": false
   },
   "outputs": [
    {
     "data": {
      "text/plain": [
       "Ttest_indResult(statistic=-52.24503065955318, pvalue=0.0)"
      ]
     },
     "execution_count": 21,
     "metadata": {},
     "output_type": "execute_result"
    }
   ],
   "source": [
    "#The methodology for this test needs to estimate the population variance either once or twice,\n",
    "#but since the standard deviations are not equal, we must estimate them both [equal_var=False]\n",
    "\n",
    "nyc_wage_list = list(nyc_wages[nyc_wages.notnull()])\n",
    "mv_wage_list = list(mv_wages[mv_wages.notnull()])\n",
    "\n",
    "stats.ttest_ind(nyc_wage_list, mv_wage_list, equal_var=False)"
   ]
  },
  {
   "cell_type": "markdown",
   "metadata": {},
   "source": [
    "#### Based on the result of the statistical significance test, we must reject the null hypothesis that the averages are different, and accept the alternative hypothesis that the averages are statistically different.\n",
    "\n",
    "(p-val = 0.0) < (alpha = 0.05)"
   ]
  },
  {
   "cell_type": "markdown",
   "metadata": {},
   "source": [
    "#### Explanation of Results\n",
    "\n",
    "A possible reason why the two proposed H-1B average wages are different comes down to local economics. Consider the similar difference in median income between the two locations in 2015. From the US Census bureau, we see that Mountain View, CA had a median per capita income of \\$58,565 while NYC, NY had a median per capita income of $33,078.\n",
    "\n",
    "The average wage for all employees is higher in Mountain View, therefore it's no surprise that visa employees follow that same trend."
   ]
  },
  {
   "cell_type": "markdown",
   "metadata": {},
   "source": [
    "# Q3\n",
    "For NYC, what is the relationship between the total number of H­1B visas requested by an employer and the average wages proposed? Visually represent this relationship if appropriate. Is the relationship statistically significant? What might explain this relationship"
   ]
  },
  {
   "cell_type": "code",
   "execution_count": 22,
   "metadata": {
    "collapsed": false
   },
   "outputs": [
    {
     "name": "stderr",
     "output_type": "stream",
     "text": [
      "/Users/benjaminnichols/anaconda3/lib/python3.5/site-packages/ipykernel/__main__.py:5: SettingWithCopyWarning: \n",
      "A value is trying to be set on a copy of a slice from a DataFrame.\n",
      "Try using .loc[row_indexer,col_indexer] = value instead\n",
      "\n",
      "See the caveats in the documentation: http://pandas.pydata.org/pandas-docs/stable/indexing.html#indexing-view-versus-copy\n"
     ]
    }
   ],
   "source": [
    "#Recycling the formatted Employer Names without teh '.' or the ','\n",
    "\n",
    "ny_mask = ((h1b_df['lca_case_employer_city'] == 'NEW YORK') & (h1b_df['lca_case_employer_state'] == 'NY'))\n",
    "\n",
    "h1b_df['lca_case_employer_name_frmt'] = h1b_df['lca_case_employer_name'].apply(lambda x: str(x).replace(',','').replace('.',''))\n",
    "\n",
    "nyc_h1b_df = h1b_df[ny_mask]\n",
    "\n",
    "nyc_apps = pd.DataFrame(nyc_h1b_df.groupby('lca_case_employer_name_frmt')['serialid'].count())\n",
    "nyc_apps.columns = ['application_count']\n",
    "nyc_wage = pd.DataFrame(nyc_h1b_df.groupby('lca_case_employer_name_frmt')['lca_case_wage_rate_from'].mean())\n",
    "nyc_wage.columns = ['mean_wage']\n",
    "\n",
    "nyc_stats = pd.merge(left = nyc_apps, right = nyc_wage, how = 'inner', left_index=True, right_index=True)"
   ]
  },
  {
   "cell_type": "code",
   "execution_count": 23,
   "metadata": {
    "collapsed": false
   },
   "outputs": [
    {
     "data": {
      "text/plain": [
       "<matplotlib.axes._subplots.AxesSubplot at 0x11758fef0>"
      ]
     },
     "execution_count": 23,
     "metadata": {},
     "output_type": "execute_result"
    },
    {
     "data": {
      "image/png": "[encoded data removed]",
      "text/plain": [
       "<matplotlib.figure.Figure at 0x113aae4a8>"
      ]
     },
     "metadata": {},
     "output_type": "display_data"
    }
   ],
   "source": [
    "#Generate a scatter plot of # applications vs average wage by employer [1 dot == 1 employer]\n",
    "\n",
    "%matplotlib inline\n",
    "\n",
    "nyc_stats.plot(kind='scatter', x='application_count', y = 'mean_wage')"
   ]
  },
  {
   "cell_type": "markdown",
   "metadata": {},
   "source": [
    "^^NOTE: Appears to model the equation y = (1/x) in the positive plane"
   ]
  },
  {
   "cell_type": "code",
   "execution_count": 26,
   "metadata": {
    "collapsed": true
   },
   "outputs": [],
   "source": [
    "# create a function which will bucket values into 5 categories based on the number of applications:\n",
    "\n",
    "def bucketing(val):\n",
    "    if val == 1:\n",
    "        return '1. [1,2)'\n",
    "    elif val == 2:\n",
    "        return '2. [2,3)'\n",
    "    elif val <= 6:\n",
    "        return '3. [3,7)'\n",
    "    elif val <= 25:\n",
    "        return '4. [7,25)'\n",
    "    else:\n",
    "        return '5. [26, inf]'       "
   ]
  },
  {
   "cell_type": "code",
   "execution_count": 27,
   "metadata": {
    "collapsed": false
   },
   "outputs": [
    {
     "data": {
      "text/plain": [
       "app_count_bucket\n",
       "1. [1,2)        3044\n",
       "2. [2,3)        1098\n",
       "3. [3,7)         923\n",
       "4. [7,25)        367\n",
       "5. [26, inf]     109\n",
       "Name: application_count, dtype: int64"
      ]
     },
     "execution_count": 27,
     "metadata": {},
     "output_type": "execute_result"
    }
   ],
   "source": [
    "#Apply the bucketing function and consider bucket distribution by employer counts:\n",
    "\n",
    "nyc_stats['app_count_bucket'] = nyc_stats['application_count'].apply(lambda x: bucketing(x))\n",
    "nyc_stats.groupby('app_count_bucket')['application_count'].count()"
   ]
  },
  {
   "cell_type": "code",
   "execution_count": 40,
   "metadata": {
    "collapsed": false
   },
   "outputs": [],
   "source": [
    "#Create Boolean masks for each bucket level for plotting purposes\n",
    "\n",
    "low_mask = nyc_stats['app_count_bucket'] == '1. [1,2)'\n",
    "low_med_mask = nyc_stats['app_count_bucket'] == '2. [2,3)'\n",
    "med_mask = nyc_stats['app_count_bucket'] == '3. [3,7)'\n",
    "med_high_mask = nyc_stats['app_count_bucket'] == '4. [7,25)'\n",
    "high_mask = nyc_stats['app_count_bucket'] == '5. [26, inf]'\n",
    "\n",
    "masks = [low_mask, low_med_mask, med_mask, med_high_mask, high_mask]"
   ]
  },
  {
   "cell_type": "code",
   "execution_count": 42,
   "metadata": {
    "collapsed": false
   },
   "outputs": [
    {
     "data": {
      "text/plain": [
       "<matplotlib.axes._subplots.AxesSubplot at 0x117e4d240>"
      ]
     },
     "execution_count": 42,
     "metadata": {},
     "output_type": "execute_result"
    },
    {
     "data": {
      "image/png": "[encoded data removed]",
      "text/plain": [
       "<matplotlib.figure.Figure at 0x117e99080>"
      ]
     },
     "metadata": {},
     "output_type": "display_data"
    }
   ],
   "source": [
    "#Let's have a high-level view of mean wage by application size-bucket to eyeball any relationships\n",
    "\n",
    "means_by_bucket = list(map(lambda x: np.mean(nyc_stats[x]['mean_wage']), masks))\n",
    "means_by_bucket_df = pd.DataFrame(list(zip(['low','med-low','med','med-high','high'],means_by_bucket)), columns=['app_count_bucket','mean2_emp_wage'])\n",
    "means_by_bucket_df.set_index('app_count_bucket').plot(kind='bar')"
   ]
  },
  {
   "cell_type": "code",
   "execution_count": 44,
   "metadata": {
    "collapsed": false
   },
   "outputs": [
    {
     "data": {
      "text/plain": [
       "<matplotlib.axes._subplots.AxesSubplot at 0x117ec10f0>"
      ]
     },
     "execution_count": 44,
     "metadata": {},
     "output_type": "execute_result"
    },
    {
     "data": {
      "image/png": "[encoded data removed]",
      "text/plain": [
       "<matplotlib.figure.Figure at 0x117eb4b70>"
      ]
     },
     "metadata": {},
     "output_type": "display_data"
    }
   ],
   "source": [
    "#Let's consider each bucket's standard deviation to determine if we are considering similar population distributions\n",
    "\n",
    "std_by_bucket = list(map(lambda x: np.std(nyc_stats[x]['mean_wage']), masks))\n",
    "std_by_bucket_df = pd.DataFrame(list(zip(['low','med-low','med','med-high','high'],std_by_bucket)), columns=['app_count_bucket','std_emp_wage'])\n",
    "std_by_bucket_df.set_index('app_count_bucket').plot(kind='bar')"
   ]
  },
  {
   "cell_type": "markdown",
   "metadata": {},
   "source": [
    "#### At a glance it seems as though there is a difference in the mean employer wage vs the number of applications. As the number of applications go up, so does the avg_wage.\n",
    "\n",
    "#### An ANOVA test would be appropriate to analyze the difference in the means, however the property known as homoscedasticity (i.e. same standard deviation for each comparison group) is not met (as seen in the plot of the bucket standard deviation) preventing us from going any further at this time."
   ]
  },
  {
   "cell_type": "code",
   "execution_count": 50,
   "metadata": {
    "collapsed": false
   },
   "outputs": [],
   "source": [
    "#Do not use stat-test as homoskedacity constraint is not met\n",
    "#stats.f_oneway(low_wage, low_med_wage, med_wage, med_high_wage, high_wage)"
   ]
  },
  {
   "cell_type": "markdown",
   "metadata": {},
   "source": [
    "#### What might explain the relationship that the greater the number of H-1B applications an employer has, the higher the average proposed wage is for the position?\n",
    "\n",
    "(1) H-1B visa applications are an expensive endeavor for employer, however if an employer is able to juggle more and more applications, there is likely an economies of scale effect where the incremental cost is lower through operational efficiency. This savings could then allow a competitive advantage for the employer by offering a higher wage to the visa applicant from the operational dollars saved.\n",
    "\n",
    "(2) There may also be a lurking correlation between the average wage of all employees at companies at each application size-bucket. In other words, companies that have the most applications for H-1B visas might also have the highest average wage for all employees, and vice versa - similar to what we saw with respect to the comparison between NYC and Mountain View median per capita income."
   ]
  }
 ],
 "metadata": {
  "anaconda-cloud": {},
  "kernelspec": {
   "display_name": "Python [Root]",
   "language": "python",
   "name": "Python [Root]"
  },
  "language_info": {
   "codemirror_mode": {
    "name": "ipython",
    "version": 3
   },
   "file_extension": ".py",
   "mimetype": "text/x-python",
   "name": "python",
   "nbconvert_exporter": "python",
   "pygments_lexer": "ipython3",
   "version": "3.5.2"
  }
 },
 "nbformat": 4,
 "nbformat_minor": 0
}
