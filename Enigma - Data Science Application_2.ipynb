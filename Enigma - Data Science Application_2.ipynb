{
 "cells": [
  {
   "cell_type": "markdown",
   "metadata": {},
   "source": [
    "# Enigma Data Science Takehome: Notebook 2"
   ]
  },
  {
   "cell_type": "markdown",
   "metadata": {},
   "source": [
    "### Details:\n",
    "\n",
    "Section 2: Brainstorming (1/4)\n",
    "\n",
    "What interesting questions might this dataset address? Brainstorm a handful of interesting questions, and scope them. Describe steps, methodology, and level of effort that would be required to answer each question. Additional, enriching, datasets are allowed, but not required."
   ]
  },
  {
   "cell_type": "markdown",
   "metadata": {},
   "source": [
    "## Question 1"
   ]
  },
  {
   "cell_type": "markdown",
   "metadata": {},
   "source": [
    "### Create a predictive model which will determine the likelihood that a particular application will be certified or denied\n",
    "\n",
    "<i><b> Steps [LOE Heuristic using JIRA Story Points] </b></i>\n",
    "1. Develop a hypothesis based on existing parameters for certification [1 point]<br>\n",
    "2. Determine which model is the best use-case for developing a predictor [1 point]<br>\n",
    "    i. regression<br>\n",
    "    ii. decision trees<br>\n",
    "    iii. support vector machines (Boolean: certified / denied)<br>\n",
    "    iv. neural nets<br>\n",
    "\n",
    "3. Split the data into training and validation data (i.e. 60 / 40 or 50 / 50 split) [<1 point]\n",
    "4. Develop an algorithm which formats, ingests, and analyzes the data (sklearn) [1 point]\n",
    "5. Programmatically or observationally test which features support strengthening the model and consider the model statistics as pos/neg indicators [3 points]\n",
    "6. Consider the tradeoff between complexity (# of features) and model accuracy to chose the best application [3 points]\n",
    "7. Test the model against data sets from other years (2008-2013; 2015-2016) to determine if the indicators for 2014 were stronger in that year than others since the acceptance criteria is not strictly objective [1 point]\n",
    "8. Determine viability / applicability of the model [<1 point]\n",
    "9. Cry / Celebrate! [3 points]"
   ]
  },
  {
   "cell_type": "markdown",
   "metadata": {},
   "source": [
    "## Question 2"
   ]
  },
  {
   "cell_type": "markdown",
   "metadata": {},
   "source": [
    "### Determine which employers are most similar based on the profile of their visa applications?\n",
    "\n",
    "<i><b> Steps [LOE Heuristic using JIRA Story Points] </b></i>\n",
    "1. Identify which data points characterize an employer, including, but not limited to: [1 point]<br>\n",
    "i. Number of applications<br>\n",
    "ii. Types of positions being sought (Percentage of applications by job title)<br>\n",
    "iii. Average wage for positions\n",
    "iv. location\n",
    "2. Determine the appropriate model (look-alike, collaborative filtering, etc.) and create a scoring heuristic [1 point]<br>\n",
    "3. Assemble the data into formats conducive to the chosen model and run through the algorithm [1 point]<br>\n",
    "    <i>Output:</i> for each employer, an array of similar employers determined by a threshold on the heuristic\n",
    "4. Decide on the viability of the model (If not viable then go back to beginning and perform post-mortem) [<1 point]\n",
    "5. If the model is viable, collect and assemble top level category information for those employers: (market segment, market cap (if any), etc.) [3 points]\n",
    "6. Analyze the similarity model with the added lenses of employer metadata and determine if there are any interesting analyses to follow-up with [5-8 points]"
   ]
  },
  {
   "cell_type": "markdown",
   "metadata": {},
   "source": [
    "## Question 3"
   ]
  },
  {
   "cell_type": "markdown",
   "metadata": {},
   "source": [
    "### Audit abuses of the system or \"spirit\" of the H-1B visa\n",
    "\n",
    "\"There is no doubt that H-1B visas — temporary work permits for specially talented foreign professionals — are instead being used by American employers to replace American workers with cheaper foreign labor.\"\n",
    "- \"Visa Abuses Harm American Workers\", NY Times Editorial Board, June 16, 2016<br>\n",
    "<i>source:<i>http://www.nytimes.com/2016/06/16/opinion/visa-abuses-harm-american-workers.html?_r=0\n",
    "<br><br>\n",
    "\n",
    "\n",
    "<i><b> Steps [LOE Heuristic using JIRA Story Points] </b></i>\n",
    "1. Research the H-1B visa program: [8 points]\n",
    "i. guidelines for employers\n",
    "ii. guidelines for consulting agencies\n",
    "ii. guidelines for applicants\n",
    "2. Define the strict requirements in terms of data for each of those 3 levels [2 points]\n",
    "3. Supplement with any additional sources of information to supplement the analysis [3 points]\n",
    "4. Develop Algorithm which determine if any single application violates the terms of the program [3 points]\n",
    "5. Run analysis and consider statistics (freq, max, min, avg) of abuse population [1 point]\n",
    "6. Write a letter to congressman stating the findings and submit detailed report [8 points]\n",
    "7. Pass report to media outlets (back to NYT) as a data exposé [1 point]\n",
    "8. Celebrate the monumental win and see median salaries increase but also increased workload [1,597 points]"
   ]
  },
  {
   "cell_type": "markdown",
   "metadata": {},
   "source": [
    "## Question 4"
   ]
  },
  {
   "cell_type": "markdown",
   "metadata": {},
   "source": [
    "### Evaluate Time Series (New / Expiring) of visas to determine if there will be a gap in talent for a role in 2017\n",
    "\n",
    "<i><b> Steps [LOE Heuristic using JIRA Story Points] </b></i>\n",
    "1. Load historical visa data since 2010 [1 point]<br>\n",
    "2. Organize data to determine which visas may still be live as of 2017 [1 point]<br> \n",
    "2. Determine which visas will end in 2017 which will indicate gaps that will exist in the near-future [1 point]<br>\n",
    "    i. This assumes stagnant need for foreign engagements <br>\n",
    "3. Consider growth trends by role [1 point] <br>\n",
    "4. Identify the gaps by job role / company and assume that the equivalent jobs will be backfilled in 2017 [1 point] <br>\n",
    "5. Collate findings in a report and pat yourself on the back [2 points]"
   ]
  }
 ],
 "metadata": {
  "kernelspec": {
   "display_name": "Python [Root]",
   "language": "python",
   "name": "Python [Root]"
  },
  "language_info": {
   "codemirror_mode": {
    "name": "ipython",
    "version": 3
   },
   "file_extension": ".py",
   "mimetype": "text/x-python",
   "name": "python",
   "nbconvert_exporter": "python",
   "pygments_lexer": "ipython3",
   "version": "3.5.2"
  }
 },
 "nbformat": 4,
 "nbformat_minor": 0
}
